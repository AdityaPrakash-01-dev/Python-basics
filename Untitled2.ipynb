{
  "nbformat": 4,
  "nbformat_minor": 0,
  "metadata": {
    "colab": {
      "provenance": []
    },
    "kernelspec": {
      "name": "python3",
      "display_name": "Python 3"
    },
    "language_info": {
      "name": "python"
    }
  },
  "cells": [
    {
      "cell_type": "markdown",
      "source": [
        "#Theory Questions\n"
      ],
      "metadata": {
        "id": "8TTiUFBw3Rt7"
      }
    },
    {
      "cell_type": "markdown",
      "source": [
        "### Q1 What is Python, and why is it popular\n",
        "  1. What is python\n",
        "  - Python is a high-level general-purpose programming language. \"High-level\" means it's designed to be easy for humans to read and write, as opposed to low-level languages that are closer to machine code. \"General-purpose\" means it can be used for a wide variety of tasks, including  data science, machine learning, scripting, and more.\n",
        "  - It's known for its clear syntax and readability, making it relatively easy to learn and use, even for beginners. Python emphasizes code readability with its use of significant indentation.\n",
        "  2. Why is it popular\n",
        "\n",
        "  - Beginner Friendly: Python's syntax and readibility make it a great choice for beginners.It's easier to learn compared to many programming languages\n",
        "  - Versatility: Python is increadibly verstaile and can be used for a wide range of tasks, as mentoined earlier.This verstaility makes it valuable in various domains\n",
        "\n",
        "\n",
        "### Q2 What is an interpreter in Python ?\n",
        "  - Interepreter in python refers to execution of code line by line .It convertes each line of code to machine readble instructions that comouter can understand an execute immediately\n",
        "\n",
        "### Q3  What are pre-defined keywords in Python ?\n",
        "\n",
        "  - pre-defined keywords (also known as reserved words) are special words that have specific meanings and purposes within the language. These keywords cannot be used as identifiers (names for variables, functions, or other objects) because they are already reserved for particular functionalities.\n",
        "\n",
        "  Examples : \"True\",\"str\",\"list\",\"float\",\"int\"\n",
        "\n",
        "### Q4 Can keywords be used as variable names ?\n",
        "\n",
        "  - No,keywords cannot be used has variable names due to these are restricted keywords which has a inbuilt definiation to particular keyword\n",
        "\n",
        "### Q5 What is mutability in Python ?\n",
        "\n",
        "  - Mutability refers to the ability of an object to change its value after it has been created. In simpler terms, a mutable object can be modified, while an immutable object cannot.\n",
        "\n",
        "  Example: Mutable functions are (List,Dictionary,Sets)\n",
        "\n",
        "  \n",
        "### Q6 Why are lists mutable, but tuples are immutable ?\n",
        "\n",
        " - **Lists** are designed to be dynamic and flexible. They are meant to hold collections of items that can be changed over time. This is why lists are mutable:\n",
        "\n",
        "     Operations: Lists support operations like append, remove, and pop, which directly modify the list's contents.\n",
        "\n",
        "     Use Cases: Lists are often used when you need to store a collection of data that might change, such as a list of tasks, a list of users, or a shopping cart.\n",
        "\n",
        " - **Tuple** Tuples, on the other hand, are intended to represent fixed collections of items. They are designed for data that should not be changed after creation. This immutability provides several benefits :\n",
        "\n",
        "      Data Integrity: Tuples ensure that the data they hold remains constant throughout the program's execution. This is important for situations where data integrity is critical, such as representing coordinates, database records, or function arguments.\n"
      ],
      "metadata": {
        "id": "41fgl-q23XJ4"
      }
    },
    {
      "cell_type": "markdown",
      "source": [
        "### Q7 What is the difference between “==” and “is” operators in Python ?\n",
        "\n",
        "  - == (Equality Operator)\n",
        "\n",
        "The == operator compares the values of two objects. It checks if the objects have the same content, regardless of whether they are the same object in memory.\n",
        "\n",
        "  - is (Identity Operator)\n",
        "\n",
        "The is operator compares the identity of two objects. It checks if both variables refer to the exact same object in memory."
      ],
      "metadata": {
        "id": "H7ZZOLn17ZQW"
      }
    },
    {
      "cell_type": "markdown",
      "source": [
        "### Q8 What are logical operators in Python ?\n",
        "\n",
        "  - Logical operators are used to combine or modify Boolean expressions (expressions that evaluate to either True or False). They allow you to create more complex conditions in your code.\n",
        "\n",
        "  Types of Logical Operators\n",
        "\n",
        "  Python has three main logical operators:\n",
        "\n",
        " 1. and (Logical AND): Returns True if both operands are True, otherwise False.\n",
        "\n",
        " 2. or (Logical OR): Returns True if at least one operand is True, otherwise False.\n",
        "\n",
        " 3. not (Logical NOT): Returns the opposite of the operand's truth value. If the operand is True, it returns False, and vice versa.\n",
        "\n",
        "### Q9 What is type casting in Python ?\n",
        "\n",
        "  - Type casting, also known as type conversion, is the process of changing the data type of a variable from one type to another. For example, you might want to convert an integer to a string, or a string to a float."
      ],
      "metadata": {
        "id": "7D253C9a8J3N"
      }
    },
    {
      "cell_type": "markdown",
      "source": [
        "### Q10 What is the difference between implicit and explicit type casting ?\n",
        "\n",
        "  - Implicit Type Casting\n",
        "\n",
        "Implicit type casting, also known as automatic type conversion, is performed by the Python interpreter without any explicit instruction from the programmer. It happens when an operation involves operands of different data types, and the interpreter automatically converts one operand to a compatible type to perform the operation.\n",
        "\n",
        "  - Explicit Type Casting\n",
        "\n",
        "Explicit type casting, also known as manual type conversion, is performed by the programmer using type casting functions like int(), float(), str(), etc. You explicitly tell the interpreter to convert a value to a specific data type.\n",
        "\n",
        "### Q11 What is the purpose of conditional statements in Python ?\n",
        "\n",
        "  - Conditional statements are fundamental programming constructs that allow you to control the flow of execution in your code based on certain conditions. They enable your program to make decisions and execute different blocks of code depending on whether a condition is true or false.\n",
        "\n",
        "Purpose\n",
        "\n",
        "The main purpose of conditional statements is to introduce decision-making logic into your programs. They allow you to:\n",
        "\n",
        "1. Execute code selectively: Based on the truthiness of a condition, you can choose to execute specific blocks of code while skipping others. This enables your program to respond differently to different situations.\n",
        "\n",
        "2. Create branches in program flow: Conditional statements create branches in your program's execution path. Depending on the condition, the program can take different routes, leading to different outcomes.\n",
        "\n",
        "3. Implement logic and algorithms: Conditional statements are essential for implementing complex logic and algorithms in your programs. They allow you to define rules and conditions that govern the behavior of your code.\n",
        "\n",
        "\n",
        "\n",
        "**Types of Conditional Statements**\n",
        "\n",
        "Python provides the following conditional statements:\n",
        "\n",
        "1. if statement: Executes a block of code only if a condition is true.\n",
        "\n",
        "2. if-else statement: Executes one block of code if a condition is true and another block if the condition is false.\n",
        "\n",
        "3. if-elif-else statement: Allows you to check multiple conditions sequentially. If one condition is true, its corresponding block of code is executed, and the rest are skipped. If none of the conditions are true, the else block (if present) is executed."
      ],
      "metadata": {
        "id": "YOwMFvUa82lA"
      }
    },
    {
      "cell_type": "markdown",
      "source": [
        "### Q12  How does the elif statement work ?\n",
        "\n",
        "  - elif Statement\n",
        "\n",
        "The elif statement, short for \"else if,\" is used in conjunction with the if statement to create a chain of conditional checks. It allows you to check multiple conditions sequentially and execute different blocks of code depending on which condition is true.\n"
      ],
      "metadata": {
        "id": "7J2w_HaD977U"
      }
    },
    {
      "cell_type": "code",
      "source": [
        "if condition1:\n",
        "    # Code to execute if condition1 is True\n",
        "elif condition2:\n",
        "    # Code to execute if condition1 is False and condition2 is True\n",
        "elif condition3:\n",
        "    # Code to execute if condition1 and condition2 are False and condition3 is True\n",
        "else:\n",
        "    # Code to execute if none of the above conditions are True"
      ],
      "metadata": {
        "id": "M7Z1DD0t-GtF"
      },
      "execution_count": null,
      "outputs": []
    },
    {
      "cell_type": "markdown",
      "source": [
        "### Q13 What is the difference between for and while loops ?\n",
        "\n",
        "  - for Loop\n",
        "\n",
        "A for loop is used to iterate over a sequence (such as a list, tuple, string, or range) or other iterable object. It executes a block of code for each item in the sequence.\n",
        "\n",
        "code: for i in (sequence):\n",
        "\n",
        " - while Loop\n",
        "\n",
        "A while loop repeatedly executes a block of code as long as a given condition is true.\n",
        "\n",
        "code: while (condition):\n",
        "\n",
        "\n",
        "### Q14  Describe a scenario where a while loop is more suitable than a for loop.\n",
        "\n",
        "  - Imagine you're writing a program that needs to continuously read input from the user until they enter a specific keyword, such as \"quit\" or \"exit.\" In this case, you don't know in advance how many times the loop needs to run. It depends entirely on the user's input.\n",
        "\n",
        "  Why while is More Suitable:\n",
        "\n",
        "      - Unknown Number of Iterations: A for loop typically iterates over a known sequence of elements. In this scenario, you don't know how many times the user will enter input before typing the keyword to quit.\n",
        "\n",
        "      - Condition-Based Termination: A while loop is designed to run as long as a condition is true. This perfectly aligns with the requirement of continuing to read input until the user enters the specific keyword."
      ],
      "metadata": {
        "id": "0B-s7FUH-Myr"
      }
    },
    {
      "cell_type": "markdown",
      "source": [
        "#Practical Questions"
      ],
      "metadata": {
        "id": "9zbteBQk3FnU"
      }
    },
    {
      "cell_type": "code",
      "execution_count": null,
      "metadata": {
        "colab": {
          "base_uri": "https://localhost:8080/"
        },
        "id": "UNt-7oIPxBNU",
        "outputId": "eabbee85-36a8-4d9a-844a-0fb39a58b9b1"
      },
      "outputs": [
        {
          "output_type": "stream",
          "name": "stdout",
          "text": [
            "Hello, World!\n"
          ]
        }
      ],
      "source": [
        "#1 Write a Python program to print \"Hello, World!\n",
        "print(\"Hello, World!\")"
      ]
    },
    {
      "cell_type": "code",
      "source": [
        "#2 Write a Python program that displays your name and age\n",
        "name=input(\"Enter your name \")\n",
        "age=input(\"enter your age \")\n",
        "print(f\"name ={name} and age={age}\")"
      ],
      "metadata": {
        "colab": {
          "base_uri": "https://localhost:8080/"
        },
        "id": "tWy7cisixsBV",
        "outputId": "a01be60c-1e4c-42e2-a8d2-62d301477e65"
      },
      "execution_count": null,
      "outputs": [
        {
          "output_type": "stream",
          "name": "stdout",
          "text": [
            "Enter your name king\n",
            "enter your age 34\n",
            "name =king and age=34\n"
          ]
        }
      ]
    },
    {
      "cell_type": "code",
      "source": [
        "#3 Write code to print all the pre-defined keywords in Python using the keyword library\n",
        "help()"
      ],
      "metadata": {
        "colab": {
          "base_uri": "https://localhost:8080/"
        },
        "id": "dQpSa9qbyaGe",
        "outputId": "ea102c84-2589-4d08-a0c2-843e8d08190f"
      },
      "execution_count": null,
      "outputs": [
        {
          "output_type": "stream",
          "name": "stdout",
          "text": [
            "\n",
            "Welcome to Python 3.10's help utility!\n",
            "\n",
            "If this is your first time using Python, you should definitely check out\n",
            "the tutorial on the internet at https://docs.python.org/3.10/tutorial/.\n",
            "\n",
            "Enter the name of any module, keyword, or topic to get help on writing\n",
            "Python programs and using Python modules.  To quit this help utility and\n",
            "return to the interpreter, just type \"quit\".\n",
            "\n",
            "To get a list of available modules, keywords, symbols, or topics, type\n",
            "\"modules\", \"keywords\", \"symbols\", or \"topics\".  Each module also comes\n",
            "with a one-line summary of what it does; to list the modules whose name\n",
            "or summary contain a given string such as \"spam\", type \"modules spam\".\n",
            "\n",
            "help> keywords\n",
            "\n",
            "Here is a list of the Python keywords.  Enter any keyword to get more help.\n",
            "\n",
            "False               class               from                or\n",
            "None                continue            global              pass\n",
            "True                def                 if                  raise\n",
            "and                 del                 import              return\n",
            "as                  elif                in                  try\n",
            "assert              else                is                  while\n",
            "async               except              lambda              with\n",
            "await               finally             nonlocal            yield\n",
            "break               for                 not                 \n",
            "\n",
            "help> \n",
            "\n",
            "You are now leaving help and returning to the Python interpreter.\n",
            "If you want to ask for help on a particular object directly from the\n",
            "interpreter, you can type \"help(object)\".  Executing \"help('string')\"\n",
            "has the same effect as typing a particular string at the help> prompt.\n"
          ]
        }
      ]
    },
    {
      "cell_type": "code",
      "source": [
        "#4 Write a program that checks if a given word is a Python keyword\n",
        "\n",
        "print(help(True))#It will not give error since it exists\n",
        "print(help(Check))#It will give error since it does not exists"
      ],
      "metadata": {
        "colab": {
          "base_uri": "https://localhost:8080/",
          "height": 1000
        },
        "id": "8OShAIYbyjeX",
        "outputId": "7c42d42d-2eb4-4081-85c7-55c7a0ee252d"
      },
      "execution_count": null,
      "outputs": [
        {
          "output_type": "stream",
          "name": "stdout",
          "text": [
            "Help on bool object:\n",
            "\n",
            "class bool(int)\n",
            " |  bool(x) -> bool\n",
            " |  \n",
            " |  Returns True when the argument x is true, False otherwise.\n",
            " |  The builtins True and False are the only two instances of the class bool.\n",
            " |  The class bool is a subclass of the class int, and cannot be subclassed.\n",
            " |  \n",
            " |  Method resolution order:\n",
            " |      bool\n",
            " |      int\n",
            " |      object\n",
            " |  \n",
            " |  Methods defined here:\n",
            " |  \n",
            " |  __and__(self, value, /)\n",
            " |      Return self&value.\n",
            " |  \n",
            " |  __or__(self, value, /)\n",
            " |      Return self|value.\n",
            " |  \n",
            " |  __rand__(self, value, /)\n",
            " |      Return value&self.\n",
            " |  \n",
            " |  __repr__(self, /)\n",
            " |      Return repr(self).\n",
            " |  \n",
            " |  __ror__(self, value, /)\n",
            " |      Return value|self.\n",
            " |  \n",
            " |  __rxor__(self, value, /)\n",
            " |      Return value^self.\n",
            " |  \n",
            " |  __xor__(self, value, /)\n",
            " |      Return self^value.\n",
            " |  \n",
            " |  ----------------------------------------------------------------------\n",
            " |  Static methods defined here:\n",
            " |  \n",
            " |  __new__(*args, **kwargs) from builtins.type\n",
            " |      Create and return a new object.  See help(type) for accurate signature.\n",
            " |  \n",
            " |  ----------------------------------------------------------------------\n",
            " |  Methods inherited from int:\n",
            " |  \n",
            " |  __abs__(self, /)\n",
            " |      abs(self)\n",
            " |  \n",
            " |  __add__(self, value, /)\n",
            " |      Return self+value.\n",
            " |  \n",
            " |  __bool__(self, /)\n",
            " |      True if self else False\n",
            " |  \n",
            " |  __ceil__(...)\n",
            " |      Ceiling of an Integral returns itself.\n",
            " |  \n",
            " |  __divmod__(self, value, /)\n",
            " |      Return divmod(self, value).\n",
            " |  \n",
            " |  __eq__(self, value, /)\n",
            " |      Return self==value.\n",
            " |  \n",
            " |  __float__(self, /)\n",
            " |      float(self)\n",
            " |  \n",
            " |  __floor__(...)\n",
            " |      Flooring an Integral returns itself.\n",
            " |  \n",
            " |  __floordiv__(self, value, /)\n",
            " |      Return self//value.\n",
            " |  \n",
            " |  __format__(self, format_spec, /)\n",
            " |      Default object formatter.\n",
            " |  \n",
            " |  __ge__(self, value, /)\n",
            " |      Return self>=value.\n",
            " |  \n",
            " |  __getattribute__(self, name, /)\n",
            " |      Return getattr(self, name).\n",
            " |  \n",
            " |  __getnewargs__(self, /)\n",
            " |  \n",
            " |  __gt__(self, value, /)\n",
            " |      Return self>value.\n",
            " |  \n",
            " |  __hash__(self, /)\n",
            " |      Return hash(self).\n",
            " |  \n",
            " |  __index__(self, /)\n",
            " |      Return self converted to an integer, if self is suitable for use as an index into a list.\n",
            " |  \n",
            " |  __int__(self, /)\n",
            " |      int(self)\n",
            " |  \n",
            " |  __invert__(self, /)\n",
            " |      ~self\n",
            " |  \n",
            " |  __le__(self, value, /)\n",
            " |      Return self<=value.\n",
            " |  \n",
            " |  __lshift__(self, value, /)\n",
            " |      Return self<<value.\n",
            " |  \n",
            " |  __lt__(self, value, /)\n",
            " |      Return self<value.\n",
            " |  \n",
            " |  __mod__(self, value, /)\n",
            " |      Return self%value.\n",
            " |  \n",
            " |  __mul__(self, value, /)\n",
            " |      Return self*value.\n",
            " |  \n",
            " |  __ne__(self, value, /)\n",
            " |      Return self!=value.\n",
            " |  \n",
            " |  __neg__(self, /)\n",
            " |      -self\n",
            " |  \n",
            " |  __pos__(self, /)\n",
            " |      +self\n",
            " |  \n",
            " |  __pow__(self, value, mod=None, /)\n",
            " |      Return pow(self, value, mod).\n",
            " |  \n",
            " |  __radd__(self, value, /)\n",
            " |      Return value+self.\n",
            " |  \n",
            " |  __rdivmod__(self, value, /)\n",
            " |      Return divmod(value, self).\n",
            " |  \n",
            " |  __rfloordiv__(self, value, /)\n",
            " |      Return value//self.\n",
            " |  \n",
            " |  __rlshift__(self, value, /)\n",
            " |      Return value<<self.\n",
            " |  \n",
            " |  __rmod__(self, value, /)\n",
            " |      Return value%self.\n",
            " |  \n",
            " |  __rmul__(self, value, /)\n",
            " |      Return value*self.\n",
            " |  \n",
            " |  __round__(...)\n",
            " |      Rounding an Integral returns itself.\n",
            " |      \n",
            " |      Rounding with an ndigits argument also returns an integer.\n",
            " |  \n",
            " |  __rpow__(self, value, mod=None, /)\n",
            " |      Return pow(value, self, mod).\n",
            " |  \n",
            " |  __rrshift__(self, value, /)\n",
            " |      Return value>>self.\n",
            " |  \n",
            " |  __rshift__(self, value, /)\n",
            " |      Return self>>value.\n",
            " |  \n",
            " |  __rsub__(self, value, /)\n",
            " |      Return value-self.\n",
            " |  \n",
            " |  __rtruediv__(self, value, /)\n",
            " |      Return value/self.\n",
            " |  \n",
            " |  __sizeof__(self, /)\n",
            " |      Returns size in memory, in bytes.\n",
            " |  \n",
            " |  __sub__(self, value, /)\n",
            " |      Return self-value.\n",
            " |  \n",
            " |  __truediv__(self, value, /)\n",
            " |      Return self/value.\n",
            " |  \n",
            " |  __trunc__(...)\n",
            " |      Truncating an Integral returns itself.\n",
            " |  \n",
            " |  as_integer_ratio(self, /)\n",
            " |      Return integer ratio.\n",
            " |      \n",
            " |      Return a pair of integers, whose ratio is exactly equal to the original int\n",
            " |      and with a positive denominator.\n",
            " |      \n",
            " |      >>> (10).as_integer_ratio()\n",
            " |      (10, 1)\n",
            " |      >>> (-10).as_integer_ratio()\n",
            " |      (-10, 1)\n",
            " |      >>> (0).as_integer_ratio()\n",
            " |      (0, 1)\n",
            " |  \n",
            " |  bit_count(self, /)\n",
            " |      Number of ones in the binary representation of the absolute value of self.\n",
            " |      \n",
            " |      Also known as the population count.\n",
            " |      \n",
            " |      >>> bin(13)\n",
            " |      '0b1101'\n",
            " |      >>> (13).bit_count()\n",
            " |      3\n",
            " |  \n",
            " |  bit_length(self, /)\n",
            " |      Number of bits necessary to represent self in binary.\n",
            " |      \n",
            " |      >>> bin(37)\n",
            " |      '0b100101'\n",
            " |      >>> (37).bit_length()\n",
            " |      6\n",
            " |  \n",
            " |  conjugate(...)\n",
            " |      Returns self, the complex conjugate of any int.\n",
            " |  \n",
            " |  to_bytes(self, /, length, byteorder, *, signed=False)\n",
            " |      Return an array of bytes representing an integer.\n",
            " |      \n",
            " |      length\n",
            " |        Length of bytes object to use.  An OverflowError is raised if the\n",
            " |        integer is not representable with the given number of bytes.\n",
            " |      byteorder\n",
            " |        The byte order used to represent the integer.  If byteorder is 'big',\n",
            " |        the most significant byte is at the beginning of the byte array.  If\n",
            " |        byteorder is 'little', the most significant byte is at the end of the\n",
            " |        byte array.  To request the native byte order of the host system, use\n",
            " |        `sys.byteorder' as the byte order value.\n",
            " |      signed\n",
            " |        Determines whether two's complement is used to represent the integer.\n",
            " |        If signed is False and a negative integer is given, an OverflowError\n",
            " |        is raised.\n",
            " |  \n",
            " |  ----------------------------------------------------------------------\n",
            " |  Class methods inherited from int:\n",
            " |  \n",
            " |  from_bytes(bytes, byteorder, *, signed=False) from builtins.type\n",
            " |      Return the integer represented by the given array of bytes.\n",
            " |      \n",
            " |      bytes\n",
            " |        Holds the array of bytes to convert.  The argument must either\n",
            " |        support the buffer protocol or be an iterable object producing bytes.\n",
            " |        Bytes and bytearray are examples of built-in objects that support the\n",
            " |        buffer protocol.\n",
            " |      byteorder\n",
            " |        The byte order used to represent the integer.  If byteorder is 'big',\n",
            " |        the most significant byte is at the beginning of the byte array.  If\n",
            " |        byteorder is 'little', the most significant byte is at the end of the\n",
            " |        byte array.  To request the native byte order of the host system, use\n",
            " |        `sys.byteorder' as the byte order value.\n",
            " |      signed\n",
            " |        Indicates whether two's complement is used to represent the integer.\n",
            " |  \n",
            " |  ----------------------------------------------------------------------\n",
            " |  Data descriptors inherited from int:\n",
            " |  \n",
            " |  denominator\n",
            " |      the denominator of a rational number in lowest terms\n",
            " |  \n",
            " |  imag\n",
            " |      the imaginary part of a complex number\n",
            " |  \n",
            " |  numerator\n",
            " |      the numerator of a rational number in lowest terms\n",
            " |  \n",
            " |  real\n",
            " |      the real part of a complex number\n",
            "\n",
            "None\n"
          ]
        },
        {
          "output_type": "error",
          "ename": "NameError",
          "evalue": "name 'Check' is not defined",
          "traceback": [
            "\u001b[0;31m---------------------------------------------------------------------------\u001b[0m",
            "\u001b[0;31mNameError\u001b[0m                                 Traceback (most recent call last)",
            "\u001b[0;32m<ipython-input-11-e5f8dcd38c4d>\u001b[0m in \u001b[0;36m<cell line: 4>\u001b[0;34m()\u001b[0m\n\u001b[1;32m      2\u001b[0m \u001b[0;34m\u001b[0m\u001b[0m\n\u001b[1;32m      3\u001b[0m \u001b[0mprint\u001b[0m\u001b[0;34m(\u001b[0m\u001b[0mhelp\u001b[0m\u001b[0;34m(\u001b[0m\u001b[0;32mTrue\u001b[0m\u001b[0;34m)\u001b[0m\u001b[0;34m)\u001b[0m\u001b[0;31m#It will not give error since it exists\u001b[0m\u001b[0;34m\u001b[0m\u001b[0;34m\u001b[0m\u001b[0m\n\u001b[0;32m----> 4\u001b[0;31m \u001b[0mprint\u001b[0m\u001b[0;34m(\u001b[0m\u001b[0mhelp\u001b[0m\u001b[0;34m(\u001b[0m\u001b[0mCheck\u001b[0m\u001b[0;34m)\u001b[0m\u001b[0;34m)\u001b[0m\u001b[0;31m#It will give error since it does not exists\u001b[0m\u001b[0;34m\u001b[0m\u001b[0;34m\u001b[0m\u001b[0m\n\u001b[0m",
            "\u001b[0;31mNameError\u001b[0m: name 'Check' is not defined"
          ]
        }
      ]
    },
    {
      "cell_type": "code",
      "source": [
        "#5 Create a list and tuple in Python, and demonstrate how attempting to change an element works differently\n",
        "\n",
        "lis1=[1,2,3,4]\n",
        "tup1=(1,2,3,4)\n",
        "#You can append,update the elements in the list\n",
        "print(lis1.append(5))\n",
        "print(lis1.pop())\n",
        "#but we cannot update,or add in a tuple\n",
        "print(tup1)\n"
      ],
      "metadata": {
        "colab": {
          "base_uri": "https://localhost:8080/"
        },
        "id": "VfPoRkN7zGwj",
        "outputId": "827d232c-768c-4a9b-9e0a-c91ac0f7a27a"
      },
      "execution_count": null,
      "outputs": [
        {
          "output_type": "stream",
          "name": "stdout",
          "text": [
            "None\n",
            "5\n",
            "(1, 2, 3, 4)\n"
          ]
        }
      ]
    },
    {
      "cell_type": "code",
      "source": [
        "#6 Write a function to demonstrate the behavior of mutable and immutable arguments\n",
        "def mutableNot(x,y):\n",
        "  y.append(x)\n",
        "\n",
        "lis1=[1,2,3,4]\n",
        "tup1=(1,2,3,4)\n",
        "#This is Mutable\n",
        "mutableNot(10,lis1)\n",
        "print(lis1)\n",
        "print(\"////////////////////////////////////////\")\n",
        "#This is immutable\n",
        "mutableNot(10,tup1)\n",
        "print(tup1)"
      ],
      "metadata": {
        "colab": {
          "base_uri": "https://localhost:8080/",
          "height": 349
        },
        "id": "11o8XCjV053h",
        "outputId": "0be34369-fa17-414d-b31f-8be614d2da57"
      },
      "execution_count": null,
      "outputs": [
        {
          "output_type": "stream",
          "name": "stdout",
          "text": [
            "[1, 2, 3, 4, 10]\n",
            "////////////////////////////////////////\n"
          ]
        },
        {
          "output_type": "error",
          "ename": "AttributeError",
          "evalue": "'tuple' object has no attribute 'append'",
          "traceback": [
            "\u001b[0;31m---------------------------------------------------------------------------\u001b[0m",
            "\u001b[0;31mAttributeError\u001b[0m                            Traceback (most recent call last)",
            "\u001b[0;32m<ipython-input-18-50754300dfad>\u001b[0m in \u001b[0;36m<cell line: 12>\u001b[0;34m()\u001b[0m\n\u001b[1;32m     10\u001b[0m \u001b[0mprint\u001b[0m\u001b[0;34m(\u001b[0m\u001b[0;34m\"////////////////////////////////////////\"\u001b[0m\u001b[0;34m)\u001b[0m\u001b[0;34m\u001b[0m\u001b[0;34m\u001b[0m\u001b[0m\n\u001b[1;32m     11\u001b[0m \u001b[0;31m#This is immutable\u001b[0m\u001b[0;34m\u001b[0m\u001b[0;34m\u001b[0m\u001b[0m\n\u001b[0;32m---> 12\u001b[0;31m \u001b[0mmutableNot\u001b[0m\u001b[0;34m(\u001b[0m\u001b[0;36m10\u001b[0m\u001b[0;34m,\u001b[0m\u001b[0mtup1\u001b[0m\u001b[0;34m)\u001b[0m\u001b[0;34m\u001b[0m\u001b[0;34m\u001b[0m\u001b[0m\n\u001b[0m\u001b[1;32m     13\u001b[0m \u001b[0mprint\u001b[0m\u001b[0;34m(\u001b[0m\u001b[0mtup1\u001b[0m\u001b[0;34m)\u001b[0m\u001b[0;34m\u001b[0m\u001b[0;34m\u001b[0m\u001b[0m\n",
            "\u001b[0;32m<ipython-input-18-50754300dfad>\u001b[0m in \u001b[0;36mmutableNot\u001b[0;34m(x, y)\u001b[0m\n\u001b[1;32m      1\u001b[0m \u001b[0;31m#6 Write a function to demonstrate the behavior of mutable and immutable arguments\u001b[0m\u001b[0;34m\u001b[0m\u001b[0;34m\u001b[0m\u001b[0m\n\u001b[1;32m      2\u001b[0m \u001b[0;32mdef\u001b[0m \u001b[0mmutableNot\u001b[0m\u001b[0;34m(\u001b[0m\u001b[0mx\u001b[0m\u001b[0;34m,\u001b[0m\u001b[0my\u001b[0m\u001b[0;34m)\u001b[0m\u001b[0;34m:\u001b[0m\u001b[0;34m\u001b[0m\u001b[0;34m\u001b[0m\u001b[0m\n\u001b[0;32m----> 3\u001b[0;31m   \u001b[0my\u001b[0m\u001b[0;34m.\u001b[0m\u001b[0mappend\u001b[0m\u001b[0;34m(\u001b[0m\u001b[0mx\u001b[0m\u001b[0;34m)\u001b[0m\u001b[0;34m\u001b[0m\u001b[0;34m\u001b[0m\u001b[0m\n\u001b[0m\u001b[1;32m      4\u001b[0m \u001b[0;34m\u001b[0m\u001b[0m\n\u001b[1;32m      5\u001b[0m \u001b[0mlis1\u001b[0m\u001b[0;34m=\u001b[0m\u001b[0;34m[\u001b[0m\u001b[0;36m1\u001b[0m\u001b[0;34m,\u001b[0m\u001b[0;36m2\u001b[0m\u001b[0;34m,\u001b[0m\u001b[0;36m3\u001b[0m\u001b[0;34m,\u001b[0m\u001b[0;36m4\u001b[0m\u001b[0;34m]\u001b[0m\u001b[0;34m\u001b[0m\u001b[0;34m\u001b[0m\u001b[0m\n",
            "\u001b[0;31mAttributeError\u001b[0m: 'tuple' object has no attribute 'append'"
          ]
        }
      ]
    },
    {
      "cell_type": "code",
      "source": [
        "#8 Write a program to demonstrate the use of logical operators\n",
        "#Logical operators refers to the and or operations\n",
        "typeWeather=input(\"Enter the type of weather \")\n",
        "marks=int(input(\"enter the marks \"))\n",
        "if(marks>80 and typeWeather==\"sunny\"):\n",
        "  print(\"Distinction\")\n",
        "else:\n",
        "  print(\"Ordinary\")"
      ],
      "metadata": {
        "colab": {
          "base_uri": "https://localhost:8080/"
        },
        "id": "K4QxYMRj2PT8",
        "outputId": "abbf408e-399d-4ceb-c91c-e096bcb62aa9"
      },
      "execution_count": null,
      "outputs": [
        {
          "output_type": "stream",
          "name": "stdout",
          "text": [
            "Enter the type of weather sunny\n",
            "enter the marks 81\n",
            "Distinction\n"
          ]
        }
      ]
    },
    {
      "cell_type": "code",
      "source": [
        "#9  Write a Python program to convert user input from string to integer, float, and boolean types\n",
        "st1=input(\"Enter the string \")\n",
        "print(type(st1))\n",
        "int1=int(input(\"Enter the Integer \"))\n",
        "print(type(int1))\n",
        "float1=float(input(\"enter the float number \"))\n",
        "print(type(float1))\n",
        "boolean1=(input(\"enter the boolean input \"))\n",
        "print(type(boolean1))"
      ],
      "metadata": {
        "colab": {
          "base_uri": "https://localhost:8080/"
        },
        "id": "rnTfzd743bTU",
        "outputId": "fe8bb9e8-b28f-410c-9dc5-e910f35a9d12"
      },
      "execution_count": null,
      "outputs": [
        {
          "output_type": "stream",
          "name": "stdout",
          "text": [
            "Enter the string this is String\n",
            "<class 'str'>\n",
            "Enter the Integer 23\n",
            "<class 'int'>\n",
            "enter the float number 34.5\n",
            "<class 'float'>\n",
            "enter the boolean input True\n",
            "<class 'str'>\n"
          ]
        }
      ]
    },
    {
      "cell_type": "code",
      "source": [
        "#10 Write code to demonstrate type casting with list elements\n",
        "import math\n",
        "\n",
        "list_1=[1,\"2.3\",4.5,\"5\"]\n",
        "#This is the integer list\n",
        "int_list=[]\n",
        "#This is the float list\n",
        "float_list=[]\n",
        "#This is the string list\n",
        "string_list=[]\n",
        "for i in list_1:\n",
        "\n",
        "  int_list.append(int(math.ceil(float(i))))\n",
        "  float_list.append(float(i))\n",
        "  string_list.append(str(i))\n",
        "\n",
        "print(int_list)\n",
        "print(float_list)\n",
        "print(string_list)"
      ],
      "metadata": {
        "colab": {
          "base_uri": "https://localhost:8080/"
        },
        "id": "yth9WpKl7BHL",
        "outputId": "2b341870-2f7e-4741-c1b0-4324ddee33f1"
      },
      "execution_count": null,
      "outputs": [
        {
          "output_type": "stream",
          "name": "stdout",
          "text": [
            "[1, 3, 5, 5]\n",
            "[1.0, 2.3, 4.5, 5.0]\n",
            "['1', '2.3', '4.5', '5']\n"
          ]
        }
      ]
    },
    {
      "cell_type": "code",
      "source": [
        " #11 Write a program that checks if a number is positive, negative, or zero\n",
        " number=int(input(\"Enter the number\"))\n",
        " if(number>0):\n",
        "  print(\"Positive\")\n",
        "elif(number<0):\n",
        "  print(\"negative\")\n",
        "else:\n",
        "  print(\"zero\")\n"
      ],
      "metadata": {
        "colab": {
          "base_uri": "https://localhost:8080/"
        },
        "id": "P6dk797R-gG8",
        "outputId": "23c30274-3de4-4f9c-e346-a08878192e5f"
      },
      "execution_count": null,
      "outputs": [
        {
          "output_type": "stream",
          "name": "stdout",
          "text": [
            "Enter the number12\n",
            "Positive\n"
          ]
        }
      ]
    },
    {
      "cell_type": "code",
      "source": [
        "#12 Write a for loop to print numbers from 1 to 10\n",
        "\n",
        "for i in range(1,11):\n",
        "  print(i,end=\" \")"
      ],
      "metadata": {
        "colab": {
          "base_uri": "https://localhost:8080/"
        },
        "id": "c85CjXp4-7BW",
        "outputId": "c99ee16d-5aea-44d4-a8a7-731293cb7448"
      },
      "execution_count": null,
      "outputs": [
        {
          "output_type": "stream",
          "name": "stdout",
          "text": [
            "1 2 3 4 5 6 7 8 9 10 "
          ]
        }
      ]
    },
    {
      "cell_type": "code",
      "source": [
        "#13 Write a Python program to find the sum of all even numbers between 1 and 50\n",
        "\n",
        "s=0 #The sum is given by s\n",
        "for i in range(1,51):\n",
        "  if(i%2==0):\n",
        "    s+=i\n",
        "\n",
        "print(s)"
      ],
      "metadata": {
        "colab": {
          "base_uri": "https://localhost:8080/"
        },
        "id": "9h4WPKsqAKBn",
        "outputId": "7da31d63-a39b-4a8c-ea1e-9feccd24e21c"
      },
      "execution_count": null,
      "outputs": [
        {
          "output_type": "stream",
          "name": "stdout",
          "text": [
            "650\n"
          ]
        }
      ]
    },
    {
      "cell_type": "code",
      "source": [
        "#14 Write a program to reverse a string using a while loop\n",
        "st1=input(\"Enter the string\")\n",
        "lengthString=len(st1)-1\n",
        "while lengthString>=0:\n",
        "  print(st1[lengthString])\n",
        "  lengthString-=1"
      ],
      "metadata": {
        "colab": {
          "base_uri": "https://localhost:8080/"
        },
        "id": "9yk5-p_MBPyi",
        "outputId": "1777e012-2ae4-42a3-9feb-f20d7c0a534e"
      },
      "execution_count": null,
      "outputs": [
        {
          "output_type": "stream",
          "name": "stdout",
          "text": [
            "Enter the stringchecker\n",
            "r\n",
            "e\n",
            "k\n",
            "c\n",
            "e\n",
            "h\n",
            "c\n"
          ]
        }
      ]
    },
    {
      "cell_type": "code",
      "source": [
        "#15 0 Write a Python program to calculate the factorial of a number provided by the user using a while loop\n",
        "number=int(input(\"Enter the number\"))\n",
        "print(number)\n",
        "fact=1\n",
        "while(number>0):\n",
        "  fact=fact*number\n",
        "  number-=1\n",
        "\n",
        "print(fact)"
      ],
      "metadata": {
        "colab": {
          "base_uri": "https://localhost:8080/"
        },
        "id": "wGJ5Q9x3Cf03",
        "outputId": "a59172e3-fc1f-4607-f002-0ccd3202b6b4"
      },
      "execution_count": null,
      "outputs": [
        {
          "output_type": "stream",
          "name": "stdout",
          "text": [
            "Enter the number5\n",
            "5\n",
            "120\n"
          ]
        }
      ]
    }
  ]
}